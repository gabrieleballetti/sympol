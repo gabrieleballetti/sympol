{
 "cells": [
  {
   "cell_type": "code",
   "execution_count": 1,
   "metadata": {},
   "outputs": [
    {
     "name": "stdout",
     "output_type": "stream",
     "text": [
      "Volume: 56713\n",
      "79\n",
      "Time to get h*-vector: 1.6162896156311035\n"
     ]
    },
    {
     "ename": "ValueError",
     "evalue": "byte must be in range(0, 256)",
     "output_type": "error",
     "traceback": [
      "\u001b[1;31m---------------------------------------------------------------------------\u001b[0m",
      "\u001b[1;31mOverflowError\u001b[0m                             Traceback (most recent call last)",
      "File \u001b[1;32mc:\\Users\\gabbal\\repositories\\sympol\\experiments\\..\\sympol\\parallelotope.py:81\u001b[0m, in \u001b[0;36mHalfOpenParallelotope.get_integer_points\u001b[1;34m(self, height)\u001b[0m\n\u001b[0;32m     80\u001b[0m \u001b[39mtry\u001b[39;00m:\n\u001b[1;32m---> 81\u001b[0m     pts \u001b[39m=\u001b[39m get_parallelotope_points_np(\n\u001b[0;32m     82\u001b[0m         np\u001b[39m.\u001b[39;49marray(\u001b[39mself\u001b[39;49m\u001b[39m.\u001b[39;49msnf, dtype\u001b[39m=\u001b[39;49mnp\u001b[39m.\u001b[39;49mint64),\n\u001b[0;32m     83\u001b[0m         \u001b[39mself\u001b[39;49m\u001b[39m.\u001b[39;49mdet,\n\u001b[0;32m     84\u001b[0m         np\u001b[39m.\u001b[39;49marray(\u001b[39mself\u001b[39;49m\u001b[39m.\u001b[39;49mv_d_inv, dtype\u001b[39m=\u001b[39;49mnp\u001b[39m.\u001b[39;49mint64),\n\u001b[0;32m     85\u001b[0m         np\u001b[39m.\u001b[39;49marray(\u001b[39mself\u001b[39;49m\u001b[39m.\u001b[39;49mm, dtype\u001b[39m=\u001b[39;49mnp\u001b[39m.\u001b[39;49mint64),\n\u001b[0;32m     86\u001b[0m         height,\n\u001b[0;32m     87\u001b[0m     )\n\u001b[0;32m     88\u001b[0m \u001b[39mexcept\u001b[39;00m \u001b[39mOverflowError\u001b[39;00m:\n\u001b[0;32m     89\u001b[0m     \u001b[39m# raise ValueError(\u001b[39;00m\n\u001b[0;32m     90\u001b[0m     \u001b[39m#     \"The number of integer points is too large to be computed.\"\u001b[39;00m\n\u001b[0;32m     91\u001b[0m     \u001b[39m# )\u001b[39;00m\n",
      "File \u001b[1;32mc:\\Users\\gabbal\\repositories\\sympol\\sympol\\integer_pts_parallelotope.pyx:10\u001b[0m, in \u001b[0;36msympol.integer_pts_parallelotope.get_parallelotope_points_np\u001b[1;34m()\u001b[0m\n",
      "File \u001b[1;32mc:\\Users\\gabbal\\repositories\\sympol\\sympol\\integer_pts_parallelotope.pyx:40\u001b[0m, in \u001b[0;36msympol.integer_pts_parallelotope.get_parallelotope_points_np\u001b[1;34m()\u001b[0m\n",
      "\u001b[1;31mOverflowError\u001b[0m: int too big to convert",
      "\nDuring handling of the above exception, another exception occurred:\n",
      "\u001b[1;31mValueError\u001b[0m                                Traceback (most recent call last)",
      "Cell \u001b[1;32mIn[1], line 33\u001b[0m\n\u001b[0;32m     31\u001b[0m start \u001b[39m=\u001b[39m time\u001b[39m.\u001b[39mtime()\n\u001b[0;32m     32\u001b[0m hop \u001b[39m=\u001b[39m HalfOpenParallelotope([[\u001b[39m1\u001b[39m] \u001b[39m+\u001b[39m \u001b[39mlist\u001b[39m(v) \u001b[39mfor\u001b[39;00m v \u001b[39min\u001b[39;00m P\u001b[39m.\u001b[39mvertices])\n\u001b[1;32m---> 33\u001b[0m pts_hop \u001b[39m=\u001b[39m [pt \u001b[39mfor\u001b[39;00m pt \u001b[39min\u001b[39;00m hop\u001b[39m.\u001b[39;49mget_integer_points()] \n\u001b[0;32m     34\u001b[0m hv \u001b[39m=\u001b[39m [\u001b[39m0\u001b[39m \u001b[39mfor\u001b[39;00m _ \u001b[39min\u001b[39;00m \u001b[39mrange\u001b[39m(P\u001b[39m.\u001b[39mdim \u001b[39m+\u001b[39m \u001b[39m1\u001b[39m)]\n\u001b[0;32m     35\u001b[0m \u001b[39mfor\u001b[39;00m pt \u001b[39min\u001b[39;00m pts_hop:\n",
      "File \u001b[1;32mc:\\Users\\gabbal\\repositories\\sympol\\experiments\\..\\sympol\\parallelotope.py:93\u001b[0m, in \u001b[0;36mHalfOpenParallelotope.get_integer_points\u001b[1;34m(self, height)\u001b[0m\n\u001b[0;32m     81\u001b[0m     pts \u001b[39m=\u001b[39m get_parallelotope_points_np(\n\u001b[0;32m     82\u001b[0m         np\u001b[39m.\u001b[39marray(\u001b[39mself\u001b[39m\u001b[39m.\u001b[39msnf, dtype\u001b[39m=\u001b[39mnp\u001b[39m.\u001b[39mint64),\n\u001b[0;32m     83\u001b[0m         \u001b[39mself\u001b[39m\u001b[39m.\u001b[39mdet,\n\u001b[1;32m   (...)\u001b[0m\n\u001b[0;32m     86\u001b[0m         height,\n\u001b[0;32m     87\u001b[0m     )\n\u001b[0;32m     88\u001b[0m \u001b[39mexcept\u001b[39;00m \u001b[39mOverflowError\u001b[39;00m:\n\u001b[0;32m     89\u001b[0m     \u001b[39m# raise ValueError(\u001b[39;00m\n\u001b[0;32m     90\u001b[0m     \u001b[39m#     \"The number of integer points is too large to be computed.\"\u001b[39;00m\n\u001b[0;32m     91\u001b[0m     \u001b[39m# )\u001b[39;00m\n\u001b[0;32m     92\u001b[0m     pts \u001b[39m=\u001b[39m get_parallelotope_points(\n\u001b[1;32m---> 93\u001b[0m         \u001b[39mbytearray\u001b[39;49m(\u001b[39mself\u001b[39;49m\u001b[39m.\u001b[39;49msnf),\n\u001b[0;32m     94\u001b[0m         \u001b[39mself\u001b[39m\u001b[39m.\u001b[39mdet,\n\u001b[0;32m     95\u001b[0m         \u001b[39mself\u001b[39m\u001b[39m.\u001b[39mv_d_inv\u001b[39m.\u001b[39mtolist(),\n\u001b[0;32m     96\u001b[0m         \u001b[39mself\u001b[39m\u001b[39m.\u001b[39mm\u001b[39m.\u001b[39mtolist(),\n\u001b[0;32m     97\u001b[0m         height\u001b[39m=\u001b[39mheight,\n\u001b[0;32m     98\u001b[0m     )\n\u001b[0;32m     99\u001b[0m \u001b[39mreturn\u001b[39;00m pts\n",
      "\u001b[1;31mValueError\u001b[0m: byte must be in range(0, 256)"
     ]
    }
   ],
   "source": [
    "import sys\n",
    "import time\n",
    "sys.path.insert(0, \"..\")\n",
    "\n",
    "from sympy import Matrix\n",
    "from sympy.polys.matrices import DomainMatrix\n",
    "\n",
    "from sympol.parallelotope import HalfOpenParallelotope\n",
    "from sympol.polytope import Polytope\n",
    "from sympol.point import Point\n",
    "\n",
    "dim = 6\n",
    "# P = Polytope.random_lattice_polytope(dim, dim+1, -1, 1)\n",
    "P = Polytope([[0, 5, -1, 0, -1, 0], [6, 2, -4, 2, -6, -6], [3, -4, -3, 3, -1, -1], [3, -2, 2, -4, 2, 6], [6, -5, -2, -6, 1, 3], [4, -2, 5, 4, 0, 0], [-6, 0, 3, 3, -2, 3]])\n",
    "# P = Polytope([[1, 1, -1, 1, 0, 1, 0, -1, 1, 1], [0, -1, 0, 0, 0, 0, -1, 1, 0, -1], [1, -1, 0, 1, 1, -1, -1, -1, -1, -1], [-1, 0, 1, 1, 1, -1, -1, -1, 1, -1], [0, 1, 0, 1, 0, 1, 0, 0, 1, 1], [1, -1, 1, -1, 1, 0, 1, 1, 1, 1], [1, -1, -1, 1, 0, -1, 0, 1, -1, 1], [0, -1, 0, 0, -1, -1, 0, 0, -1, 0], [1, -1, 0, 1, 1, 0, 1, 0, 1, 1], [0, -1, 0, 0, 0, 1, 0, 0, 0, 0], [-1, 0, 1, 1, 1, 1, -1, 1, 1, -1]])\n",
    "# P.vertices\n",
    "\n",
    "if P.dim < dim:\n",
    "    raise ValueError(\"Dimension must be at least 4\")\n",
    "\n",
    "print(\"Volume: {}\".format(P.normalized_volume))\n",
    "\n",
    "start = time.time()\n",
    "pts = P.integer_points\n",
    "print(P.n_integer_points)\n",
    "# print(P.h_star_vector)\n",
    "end = time.time()\n",
    "print(\"Time to get h*-vector: {}\".format(end - start))\n",
    "\n",
    "\n",
    "start = time.time()\n",
    "hop = HalfOpenParallelotope([[1] + list(v) for v in P.vertices])\n",
    "pts_hop = [pt for pt in hop.get_integer_points()] \n",
    "hv = [0 for _ in range(P.dim + 1)]\n",
    "for pt in pts_hop:\n",
    "    hv[pt[0]] += 1\n",
    "pts2 = [list(v) for v in P.vertices] + [pt[1:] for pt in pts_hop if pt[0] == 1]\n",
    "print(len(pts2))\n",
    "end = time.time()\n",
    "print(\"Time to get h*-vector: {}\".format(end - start))\n",
    "\n",
    "print(P.vertices)\n",
    "\n",
    "# print(P.h_star_vector)\n",
    "print(hv)\n",
    "print(P.is_idp)"
   ]
  },
  {
   "cell_type": "code",
   "execution_count": null,
   "metadata": {},
   "outputs": [],
   "source": []
  },
  {
   "cell_type": "code",
   "execution_count": 150,
   "metadata": {},
   "outputs": [
    {
     "name": "stdout",
     "output_type": "stream",
     "text": [
      "Matrix([\n",
      "[1, 0, 0],\n",
      "[0, 1, 0],\n",
      "[0, 0, 6]])\n",
      "0.00299835205078125\n"
     ]
    }
   ],
   "source": [
    "import sys\n",
    "import time\n",
    "sys.path.insert(0, \"..\")\n",
    "\n",
    "from sympy import Matrix\n",
    "from sympol.polytope import Polytope\n",
    "from sympol.snf import smith_normal_form\n",
    "\n",
    "# p = Polytope.random_lattice_polytope(10, 10, -100000, 100000)\n",
    "# m = Matrix(p.vertices).T\n",
    "# m = Matrix([[1, 3, 0], [1, 1, 0], [1, 0, 3]]).T\n",
    "\n",
    "start = time.time()\n",
    "d, u, v = smith_normal_form(m)\n",
    "end = time.time()\n",
    "\n",
    "# print(repr(m))\n",
    "print(repr(d))\n",
    "print(end - start)\n",
    "# print(repr(v))\n",
    "# print(repr(u))\n",
    "\n",
    "assert d == u * m * v"
   ]
  },
  {
   "cell_type": "code",
   "execution_count": null,
   "metadata": {},
   "outputs": [],
   "source": [
    "import pathlib\n",
    "import json\n",
    "\n",
    "p_dir = pathlib.Path(\"../data/6\")\n",
    "p_files = list(p_dir.glob(\"*.json\"))\n",
    "\n",
    "# iterate over all polytopes\n",
    "for p_file in p_files:\n",
    "    with open(p_file) as f:\n",
    "        p_data = json.load(f)\n",
    "    if not p_data[\"has_unimodal_h_star_vector\"]:\n",
    "        print(p_data[\"h_star_vector\"])\n",
    "\n",
    "\n",
    "\n"
   ]
  },
  {
   "cell_type": "code",
   "execution_count": null,
   "metadata": {},
   "outputs": [],
   "source": [
    "for i in range(100):\n",
    "    p = Polytope.random_lattice_polytope(4, 10, -10, 10)\n",
    "\n",
    "    hs = p.h_star_vector\n",
    "    print(hs)\n",
    "    assert sum(hs) == p.normalized_volume"
   ]
  },
  {
   "cell_type": "code",
   "execution_count": null,
   "metadata": {},
   "outputs": [],
   "source": [
    "c = Polytope([[1, -6, 10, 3], [-10, 3, -4, -1], [-7, -8, -2, 4], [-6, 6, -2, -1], [1, 10, -10, -4], [2, -3, -2, 2], [-5, -6, -6, 0], [-1, -4, 10, -3], [-6, 8, 2, -4], [-7, -7, 1, 0]])\n",
    "start = time.time()\n",
    "e = c.ehrhart_polynomial\n",
    "end = time.time()\n",
    "print(e)\n",
    "print(end - start)\n",
    "\n"
   ]
  },
  {
   "cell_type": "code",
   "execution_count": null,
   "metadata": {},
   "outputs": [],
   "source": [
    "c = Polytope.cube(3) * 3**4\n",
    "c = c.chisel(3**3)\n",
    "c = c.chisel(3**2)\n",
    "c = c.chisel(3**1)\n",
    "c = c.chisel(1)\n",
    "\n",
    "assert c.is_smooth\n",
    "c.ehrhart_polynomial\n"
   ]
  },
  {
   "cell_type": "code",
   "execution_count": null,
   "metadata": {},
   "outputs": [],
   "source": [
    "import sys\n",
    "import time\n",
    "sys.path.insert(0, \"..\")\n",
    "\n",
    "\n",
    "from sympol.polytope import Polytope\n",
    "\n",
    "cr = Polytope.cross_polytope(7)\n",
    "print(\"---\")\n",
    "print(cr.ehrhart_polynomial)\n",
    "print(cr.h_star_vector)\n",
    "\n",
    "cr = (cr * 3).chisel(1)\n",
    "print(\"---\")\n",
    "print(cr.ehrhart_polynomial)\n",
    "print(cr.h_star_vector)\n",
    "\n",
    "cr = (cr * 3).chisel(1)\n",
    "print(\"---\")\n",
    "print(cr.ehrhart_polynomial)\n",
    "print(cr.h_star_vector)\n",
    "\n",
    "cr = (cr * 3).chisel(1)\n",
    "print(\"---\")\n",
    "print(cr.ehrhart_polynomial)\n",
    "print(cr.h_star_vector)\n",
    "\n",
    "# cr = (cr * 3).chisel(1)\n",
    "# print(\"---\")\n",
    "# print(cr.ehrhart_polynomial)\n",
    "# print(cr.h_star_vector)\n"
   ]
  }
 ],
 "metadata": {
  "kernelspec": {
   "display_name": ".venv",
   "language": "python",
   "name": "python3"
  },
  "language_info": {
   "codemirror_mode": {
    "name": "ipython",
    "version": 3
   },
   "file_extension": ".py",
   "mimetype": "text/x-python",
   "name": "python",
   "nbconvert_exporter": "python",
   "pygments_lexer": "ipython3",
   "version": "3.10.0"
  },
  "orig_nbformat": 4
 },
 "nbformat": 4,
 "nbformat_minor": 2
}
