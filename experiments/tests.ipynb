{
 "cells": [
  {
   "cell_type": "code",
   "execution_count": null,
   "metadata": {},
   "outputs": [],
   "source": [
    "from sympy import Abs\n",
    "from sympol import Polytope\n",
    "from sympol.ehrhart import h_star_to_gamma_vector, gamma_to_h_star_vector\n",
    "\n",
    "gamma = (1, 0, 16, 0, 0, 0, 0, 0)\n",
    "h = gamma_to_h_star_vector(gamma)\n",
    "print(h)\n",
    "    "
   ]
  },
  {
   "cell_type": "code",
   "execution_count": 3,
   "metadata": {},
   "outputs": [
    {
     "name": "stdout",
     "output_type": "stream",
     "text": [
      "(1, 8, 18, 8, 1, 0)\n",
      "(1, 6, 16, 6, 1, 0)\n",
      "(1, 4, 4, 0, 0)\n",
      "(1, 2, 6, 0, 0)\n"
     ]
    }
   ],
   "source": [
    "from sympol import Polytope\n",
    "\n",
    "p = Polytope([[1,-1,0,0,0],[0,1,-1,0,0],[0,0,1,-1,0],[0,0,0,1,-1],[-1,0,0,0,1],[0,0,1,0,-1],\n",
    "    [-1,1,0,0,0],[0,-1,1,0,0],[0,0,-1,1,0],[0,0,0,-1,1],[1,0,0,0,-1],[0,0,-1,0,1]])\n",
    "\n",
    "\n",
    "q = Polytope([[1,-1,0,0,0],[0,1,-1,0,0],[0,0,1,-1,0],[0,0,0,1,-1],[-1,0,0,0,1],\n",
    "    [-1,1,0,0,0],[0,-1,1,0,0],[0,0,-1,1,0],[0,0,0,-1,1],[1,0,0,0,-1]])\n",
    "\n",
    "print(p.h_star_vector)\n",
    "print(q.h_star_vector)\n",
    "\n",
    "print(p.gamma_vector)\n",
    "print(q.gamma_vector)\n"
   ]
  },
  {
   "cell_type": "code",
   "execution_count": 8,
   "metadata": {},
   "outputs": [
    {
     "name": "stdout",
     "output_type": "stream",
     "text": [
      "(1, 12, 22, 12, 1)\n",
      "(1, 8, 0, 0, 0)\n",
      "\n",
      "(1, 6, 4, 0, 0)\n",
      "(1, 6, 4, 0, 0)\n",
      "(1, 6, 4, 0, 0)\n",
      "(1, 6, 4, 0, 0)\n",
      "(1, 6, 4, 0, 0)\n",
      "(1, 6, 4, 0, 0)\n",
      "(1, 6, 4, 0, 0)\n",
      "(1, 6, 4, 0, 0)\n"
     ]
    }
   ],
   "source": [
    "from sympol import Polytope\n",
    "\n",
    "# p = Polytope([[1, 0, 0, 0], [0, 1, 0, 0], [0, 0, 1, 0], [-2, 2, 1, 0], [-2, 1, 2, 0], [-3, 2, 2, 0], [1, 0, 0, 2], [0, 1, 0, 2], [0, 0, 1, 2], [-2, 2, 1, 2], [-2, 1, 2, 2], [-3, 2, 2, 2], [3, -2, -2, -2], [2, -1, -2, -2], [2, -2, -1, -2], [0, 0, -1, -2], [0, -1, 0, -2], [-1, 0, 0, -2], [3, -2, -2, 0], [2, -1, -2, 0], [2, -2, -1, 0], [0, 0, -1, 0], [0, -1, 0, 0], [-1, 0, 0, 0]])\n",
    "# p = Polytope([\n",
    "#     [1, 0, 0, 0],\n",
    "#     [0, 1, 0, 0],\n",
    "#     [0, 0, 1, 0],\n",
    "#     [-1, 1, 1, 0],\n",
    "#     [0, 0, 0, 1],\n",
    "#     [-1, 1, 0, 1], \n",
    "#     [-1, 0, 1, 1], \n",
    "#     [-2, 1, 1, 1], \n",
    "#     [2, -1, -1, -1], \n",
    "#     [1, 0, -1, -1], \n",
    "#     [1, -1, 0, -1], \n",
    "#     [0, 0, 0, -1], \n",
    "#     [1, -1, -1, 0], \n",
    "#     [0, 0, -1, 0], \n",
    "#     [0, -1, 0, 0], \n",
    "#     [-1, 0, 0, 0]])\n",
    "p = Polytope([\n",
    "    [ 1,  0,  0,  0],\n",
    "    [ 1,  1,  0,  0],\n",
    "    [ 0,  0,  1,  0],\n",
    "    [ 0,  1,  1,  0],\n",
    "    [ 0,  0,  0,  1],\n",
    "    [ 0,  1,  0,  1], \n",
    "    [-1,  0,  1,  1], \n",
    "    [-1,  1,  1,  1], \n",
    "    [ 1, -1, -1, -1], \n",
    "    [ 1,  0, -1, -1], \n",
    "    [ 0, -1,  0, -1], \n",
    "    [ 0,  0,  0, -1], \n",
    "    [ 0, -1, -1,  0], \n",
    "    [ 0,  0, -1,  0], \n",
    "    [-1, -1,  0,  0], \n",
    "    [-1,  0,  0,  0]])\n",
    "\n",
    "print(p.h_star_vector)\n",
    "print(p.gamma_vector)\n",
    "print()\n",
    "\n",
    "\n",
    "p_pts = p.integer_points\n",
    "for v in p.vertices:\n",
    "    # avoid removing the same vertices twice\n",
    "    nzv = [a for a in v if a != 0]\n",
    "    if nzv[0] < 0:\n",
    "        continue\n",
    "\n",
    "    # remove the vertex and its opposite\n",
    "    v_plus = tuple([a for a in v])\n",
    "    v_minus = tuple([-a for a in v])\n",
    "    new_verts = [u for u in p_pts if tuple(u) not in [v_plus, v_minus]]\n",
    "\n",
    "    q = Polytope(new_verts)\n",
    "    print(q.gamma_vector)\n"
   ]
  }
 ],
 "metadata": {
  "kernelspec": {
   "display_name": ".venv",
   "language": "python",
   "name": "python3"
  },
  "language_info": {
   "codemirror_mode": {
    "name": "ipython",
    "version": 3
   },
   "file_extension": ".py",
   "mimetype": "text/x-python",
   "name": "python",
   "nbconvert_exporter": "python",
   "pygments_lexer": "ipython3",
   "version": "3.10.0"
  },
  "orig_nbformat": 4,
  "vscode": {
   "interpreter": {
    "hash": "a10c9f2df205e01c562a55cabb93a9cc9ad14dd026e85799e673d8312c59fdb7"
   }
  }
 },
 "nbformat": 4,
 "nbformat_minor": 2
}
