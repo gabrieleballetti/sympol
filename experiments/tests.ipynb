{
 "cells": [
  {
   "cell_type": "code",
   "execution_count": 51,
   "metadata": {},
   "outputs": [
    {
     "name": "stdout",
     "output_type": "stream",
     "text": [
      "6\n",
      "524880\n",
      "368640\n",
      "(1, 4089, 88998, 262438, 154113, 15177, 64)\n",
      "(1, 3368, 67521, 186536, 102115, 9072, 27)\n"
     ]
    }
   ],
   "source": [
    "from sympy import Abs\n",
    "from sympol import Polytope\n",
    "from sympol.ehrhart import h_star_to_ehrhart_polynomial\n",
    "\n",
    "p = Polytope.random_lattice_polytope(3, 10, -2, 2)\n",
    "\n",
    "for k in (1, 5):\n",
    "    "
   ]
  }
 ],
 "metadata": {
  "kernelspec": {
   "display_name": ".venv",
   "language": "python",
   "name": "python3"
  },
  "language_info": {
   "codemirror_mode": {
    "name": "ipython",
    "version": 3
   },
   "file_extension": ".py",
   "mimetype": "text/x-python",
   "name": "python",
   "nbconvert_exporter": "python",
   "pygments_lexer": "ipython3",
   "version": "3.10.11"
  },
  "orig_nbformat": 4
 },
 "nbformat": 4,
 "nbformat_minor": 2
}
